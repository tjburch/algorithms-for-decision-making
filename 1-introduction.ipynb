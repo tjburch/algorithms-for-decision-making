{
 "cells": [
  {
   "cell_type": "markdown",
   "id": "mighty-opportunity",
   "metadata": {},
   "source": [
    "# Introduction\n",
    "\n",
    "## 1.1 Decision Making\n",
    "\n",
    "4 sources of uncertainty:\n",
    "\n",
    "1. Outcome uncertainty - effects of actions are uncertain\n",
    "2. Model uncertainty - model of problem is uncertain\n",
    "3. State uncertainty - true environment is uncertain\n",
    "4. Interaction uncertainty - behavior of other agents acting in the environment is uncertain\n",
    "\n",
    "## 1.2 Applications\n",
    "\n",
    "Several examples given\n",
    "\n",
    "- Aircraft avoidance\n",
    "- Automated driving\n",
    "- Breast cancer screening\n",
    "- Financial consumption\n",
    "- Distributed wildfire surveillance\n",
    "\n",
    "## 1.3 Methods\n",
    "\n",
    "Many different approaches:\n",
    "\n",
    "1. Explicit programming - direct, good for simple problems\n",
    "2. Supervised learning - generalizable algorithm from examples\n",
    "3. Optimization - specify decisions strategies and maximize a performance metric\n",
    "4. Planning - a form of optimization that uses problem dynamics to guide the search\n",
    "5. Reinforcement learning - decision-making strategy is learned while agent interacts with world\n",
    "\n",
    "## 1.4 History\n",
    "\n",
    "Historical applications in economics, psychology, neuroscience, computer science, engineering, mathematics, operations research.\n",
    "\n",
    "## 1.5 Societal Impact\n",
    "\n",
    "It's pretty much all over now. I wouldn't be reading this book otherwise.\n",
    "\n",
    "## 1.6 Overview\n",
    "\n",
    "5 parts to the book\n",
    "\n",
    "1. Reasoning about uncertainty\n",
    "2. Decision making as sequential problems\n",
    "3. Model uncertainty\n",
    "4. State uncertainty\n",
    "5. Contexts with multiple agents"
   ]
  },
  {
   "cell_type": "code",
   "execution_count": null,
   "id": "worldwide-challenge",
   "metadata": {},
   "outputs": [],
   "source": []
  }
 ],
 "metadata": {
  "kernelspec": {
   "display_name": "Julia 1.5.3",
   "language": "julia",
   "name": "julia-1.5"
  },
  "language_info": {
   "file_extension": ".jl",
   "mimetype": "application/julia",
   "name": "julia",
   "version": "1.5.3"
  }
 },
 "nbformat": 4,
 "nbformat_minor": 5
}
